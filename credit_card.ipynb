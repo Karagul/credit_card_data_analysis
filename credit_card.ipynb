{
 "cells": [
  {
   "cell_type": "markdown",
   "metadata": {},
   "source": [
    "# 1. Clean Data"
   ]
  },
  {
   "cell_type": "markdown",
   "metadata": {},
   "source": [
    "## 1.1 Read data"
   ]
  },
  {
   "cell_type": "code",
   "execution_count": 1,
   "metadata": {},
   "outputs": [],
   "source": [
    "import pandas as pd\n",
    "import matplotlib.pyplot as plt\n",
    "import numpy as np\n",
    "import os\n",
    "import datetime\n",
    "\n",
    "# ******* Usser Input ********\n",
    "di = \"/Users/zxz1997/Desktop/AlphaStudio Challenge\"\n",
    "folder = 'Spendings'"
   ]
  },
  {
   "cell_type": "code",
   "execution_count": 2,
   "metadata": {},
   "outputs": [
    {
     "name": "stderr",
     "output_type": "stream",
     "text": [
      "/anaconda3/lib/python3.6/site-packages/IPython/core/interactiveshell.py:2785: DtypeWarning: Columns (6) have mixed types. Specify dtype option on import or set low_memory=False.\n",
      "  interactivity=interactivity, compiler=compiler, result=result)\n"
     ]
    },
    {
     "data": {
      "text/html": [
       "<div>\n",
       "<style scoped>\n",
       "    .dataframe tbody tr th:only-of-type {\n",
       "        vertical-align: middle;\n",
       "    }\n",
       "\n",
       "    .dataframe tbody tr th {\n",
       "        vertical-align: top;\n",
       "    }\n",
       "\n",
       "    .dataframe thead th {\n",
       "        text-align: right;\n",
       "    }\n",
       "</style>\n",
       "<table border=\"1\" class=\"dataframe\">\n",
       "  <thead>\n",
       "    <tr style=\"text-align: right;\">\n",
       "      <th></th>\n",
       "      <th>Year-Month</th>\n",
       "      <th>Agency Number</th>\n",
       "      <th>Agency Name</th>\n",
       "      <th>Cardholder Last Name</th>\n",
       "      <th>Cardholder First Initial</th>\n",
       "      <th>Description</th>\n",
       "      <th>Amount</th>\n",
       "      <th>Vendor</th>\n",
       "      <th>Transaction Date</th>\n",
       "      <th>Posted Date</th>\n",
       "      <th>Merchant Category Code (MCC)</th>\n",
       "    </tr>\n",
       "  </thead>\n",
       "  <tbody>\n",
       "    <tr>\n",
       "      <th>0</th>\n",
       "      <td>201307</td>\n",
       "      <td>1000</td>\n",
       "      <td>OKLAHOMA STATE UNIVERSITY</td>\n",
       "      <td>Mason</td>\n",
       "      <td>C</td>\n",
       "      <td>GENERAL PURCHASE</td>\n",
       "      <td>890</td>\n",
       "      <td>NACAS</td>\n",
       "      <td>7/30/2013 0:00</td>\n",
       "      <td>7/31/2013 0:00</td>\n",
       "      <td>CHARITABLE AND SOCIAL SERVICE ORGANIZATIONS</td>\n",
       "    </tr>\n",
       "    <tr>\n",
       "      <th>1</th>\n",
       "      <td>201307</td>\n",
       "      <td>1000</td>\n",
       "      <td>OKLAHOMA STATE UNIVERSITY</td>\n",
       "      <td>Mason</td>\n",
       "      <td>C</td>\n",
       "      <td>ROOM CHARGES</td>\n",
       "      <td>368.96</td>\n",
       "      <td>SHERATON HOTEL</td>\n",
       "      <td>7/30/2013 0:00</td>\n",
       "      <td>7/31/2013 0:00</td>\n",
       "      <td>SHERATON</td>\n",
       "    </tr>\n",
       "    <tr>\n",
       "      <th>2</th>\n",
       "      <td>201307</td>\n",
       "      <td>1000</td>\n",
       "      <td>OKLAHOMA STATE UNIVERSITY</td>\n",
       "      <td>Massey</td>\n",
       "      <td>J</td>\n",
       "      <td>GENERAL PURCHASE</td>\n",
       "      <td>165.82</td>\n",
       "      <td>SEARS.COM 9300</td>\n",
       "      <td>7/29/2013 0:00</td>\n",
       "      <td>7/31/2013 0:00</td>\n",
       "      <td>DIRCT MARKETING/DIRCT MARKETERS--NOT ELSEWHERE...</td>\n",
       "    </tr>\n",
       "    <tr>\n",
       "      <th>3</th>\n",
       "      <td>201307</td>\n",
       "      <td>1000</td>\n",
       "      <td>OKLAHOMA STATE UNIVERSITY</td>\n",
       "      <td>Massey</td>\n",
       "      <td>T</td>\n",
       "      <td>GENERAL PURCHASE</td>\n",
       "      <td>96.39</td>\n",
       "      <td>WAL-MART #0137</td>\n",
       "      <td>7/30/2013 0:00</td>\n",
       "      <td>7/31/2013 0:00</td>\n",
       "      <td>GROCERY STORES,AND SUPERMARKETS</td>\n",
       "    </tr>\n",
       "    <tr>\n",
       "      <th>4</th>\n",
       "      <td>201307</td>\n",
       "      <td>1000</td>\n",
       "      <td>OKLAHOMA STATE UNIVERSITY</td>\n",
       "      <td>Mauro-Herrera</td>\n",
       "      <td>M</td>\n",
       "      <td>HAMMERMILL COPY PLUS COPY EA</td>\n",
       "      <td>125.96</td>\n",
       "      <td>STAPLES DIRECT</td>\n",
       "      <td>7/30/2013 0:00</td>\n",
       "      <td>7/31/2013 0:00</td>\n",
       "      <td>STATIONERY, OFFICE SUPPLIES, PRINTING AND WRIT...</td>\n",
       "    </tr>\n",
       "  </tbody>\n",
       "</table>\n",
       "</div>"
      ],
      "text/plain": [
       "   Year-Month  Agency Number                Agency Name Cardholder Last Name  \\\n",
       "0      201307           1000  OKLAHOMA STATE UNIVERSITY                Mason   \n",
       "1      201307           1000  OKLAHOMA STATE UNIVERSITY                Mason   \n",
       "2      201307           1000  OKLAHOMA STATE UNIVERSITY               Massey   \n",
       "3      201307           1000  OKLAHOMA STATE UNIVERSITY               Massey   \n",
       "4      201307           1000  OKLAHOMA STATE UNIVERSITY        Mauro-Herrera   \n",
       "\n",
       "  Cardholder First Initial                   Description  Amount  \\\n",
       "0                        C              GENERAL PURCHASE     890   \n",
       "1                        C                  ROOM CHARGES  368.96   \n",
       "2                        J              GENERAL PURCHASE  165.82   \n",
       "3                        T              GENERAL PURCHASE   96.39   \n",
       "4                        M  HAMMERMILL COPY PLUS COPY EA  125.96   \n",
       "\n",
       "           Vendor Transaction Date     Posted Date  \\\n",
       "0           NACAS   7/30/2013 0:00  7/31/2013 0:00   \n",
       "1  SHERATON HOTEL   7/30/2013 0:00  7/31/2013 0:00   \n",
       "2  SEARS.COM 9300   7/29/2013 0:00  7/31/2013 0:00   \n",
       "3  WAL-MART #0137   7/30/2013 0:00  7/31/2013 0:00   \n",
       "4  STAPLES DIRECT   7/30/2013 0:00  7/31/2013 0:00   \n",
       "\n",
       "                        Merchant Category Code (MCC)  \n",
       "0        CHARITABLE AND SOCIAL SERVICE ORGANIZATIONS  \n",
       "1                                           SHERATON  \n",
       "2  DIRCT MARKETING/DIRCT MARKETERS--NOT ELSEWHERE...  \n",
       "3                    GROCERY STORES,AND SUPERMARKETS  \n",
       "4  STATIONERY, OFFICE SUPPLIES, PRINTING AND WRIT...  "
      ]
     },
     "execution_count": 2,
     "metadata": {},
     "output_type": "execute_result"
    }
   ],
   "source": [
    "os.chdir(di + '/' + folder)\n",
    "sp = pd.read_csv('res_purchase_2014.csv')\n",
    "sp.head()"
   ]
  },
  {
   "cell_type": "code",
   "execution_count": 3,
   "metadata": {},
   "outputs": [
    {
     "data": {
      "text/html": [
       "<div>\n",
       "<style scoped>\n",
       "    .dataframe tbody tr th:only-of-type {\n",
       "        vertical-align: middle;\n",
       "    }\n",
       "\n",
       "    .dataframe tbody tr th {\n",
       "        vertical-align: top;\n",
       "    }\n",
       "\n",
       "    .dataframe thead th {\n",
       "        text-align: right;\n",
       "    }\n",
       "</style>\n",
       "<table border=\"1\" class=\"dataframe\">\n",
       "  <thead>\n",
       "    <tr style=\"text-align: right;\">\n",
       "      <th></th>\n",
       "      <th>Year-Month</th>\n",
       "      <th>Agency Number</th>\n",
       "      <th>Agency Name</th>\n",
       "      <th>Cardholder Last Name</th>\n",
       "      <th>Cardholder First Initial</th>\n",
       "      <th>Description</th>\n",
       "      <th>Amount</th>\n",
       "      <th>Vendor</th>\n",
       "      <th>Transaction Date</th>\n",
       "      <th>Posted Date</th>\n",
       "      <th>Merchant Category Code (MCC)</th>\n",
       "    </tr>\n",
       "  </thead>\n",
       "  <tbody>\n",
       "    <tr>\n",
       "      <th>442452</th>\n",
       "      <td>201406</td>\n",
       "      <td>98000</td>\n",
       "      <td>GRAND RIVER DAM AUTH.</td>\n",
       "      <td>Cardholder</td>\n",
       "      <td>e</td>\n",
       "      <td>GENERAL PURCHASE</td>\n",
       "      <td>992</td>\n",
       "      <td>TOTAL VALVE SYSTEMS</td>\n",
       "      <td>6/20/2014 0:00</td>\n",
       "      <td>6/23/2014 0:00</td>\n",
       "      <td>HARDWARE EQUIPMENT AND SUPPLIES</td>\n",
       "    </tr>\n",
       "    <tr>\n",
       "      <th>442453</th>\n",
       "      <td>201406</td>\n",
       "      <td>98000</td>\n",
       "      <td>GRAND RIVER DAM AUTH.</td>\n",
       "      <td>Cardholder</td>\n",
       "      <td>e</td>\n",
       "      <td>GENERAL PURCHASE</td>\n",
       "      <td>2415</td>\n",
       "      <td>PRYOR WASTE &amp; RECYCLING L</td>\n",
       "      <td>6/20/2014 0:00</td>\n",
       "      <td>6/23/2014 0:00</td>\n",
       "      <td>UTILITIES - ELECTRIC,GAS,WATER,SANITARY</td>\n",
       "    </tr>\n",
       "    <tr>\n",
       "      <th>442454</th>\n",
       "      <td>201406</td>\n",
       "      <td>98000</td>\n",
       "      <td>GRAND RIVER DAM AUTH.</td>\n",
       "      <td>Cardholder</td>\n",
       "      <td>e</td>\n",
       "      <td>GENERAL PURCHASE</td>\n",
       "      <td>177.5</td>\n",
       "      <td>ACCURATE ENVIROMENTAL LAB</td>\n",
       "      <td>6/20/2014 0:00</td>\n",
       "      <td>6/23/2014 0:00</td>\n",
       "      <td>BUSINESS SERVICES NOT ELSEWHERE CLASSIFIED</td>\n",
       "    </tr>\n",
       "    <tr>\n",
       "      <th>442455</th>\n",
       "      <td>201406</td>\n",
       "      <td>98000</td>\n",
       "      <td>GRAND RIVER DAM AUTH.</td>\n",
       "      <td>Cardholder</td>\n",
       "      <td>e</td>\n",
       "      <td>GENERAL PURCHASE</td>\n",
       "      <td>32457</td>\n",
       "      <td>RED BUD SERVICE INC</td>\n",
       "      <td>6/19/2014 0:00</td>\n",
       "      <td>6/23/2014 0:00</td>\n",
       "      <td>PROFESSIONAL SERVICES NOT ELSEWHERE CLASSIFIED</td>\n",
       "    </tr>\n",
       "    <tr>\n",
       "      <th>442456</th>\n",
       "      <td>201406</td>\n",
       "      <td>98000</td>\n",
       "      <td>GRAND RIVER DAM AUTH.</td>\n",
       "      <td>Cardholder</td>\n",
       "      <td>e</td>\n",
       "      <td>GENERAL PURCHASE</td>\n",
       "      <td>4714.07</td>\n",
       "      <td>WARRENCAT CREDIT DEPT</td>\n",
       "      <td>6/20/2014 0:00</td>\n",
       "      <td>6/23/2014 0:00</td>\n",
       "      <td>MISCELLANEOUS AND SPECIALTY RETAIL STORES</td>\n",
       "    </tr>\n",
       "  </tbody>\n",
       "</table>\n",
       "</div>"
      ],
      "text/plain": [
       "        Year-Month  Agency Number            Agency Name Cardholder Last Name  \\\n",
       "442452      201406          98000  GRAND RIVER DAM AUTH.           Cardholder   \n",
       "442453      201406          98000  GRAND RIVER DAM AUTH.           Cardholder   \n",
       "442454      201406          98000  GRAND RIVER DAM AUTH.           Cardholder   \n",
       "442455      201406          98000  GRAND RIVER DAM AUTH.           Cardholder   \n",
       "442456      201406          98000  GRAND RIVER DAM AUTH.           Cardholder   \n",
       "\n",
       "       Cardholder First Initial       Description   Amount  \\\n",
       "442452                        e  GENERAL PURCHASE      992   \n",
       "442453                        e  GENERAL PURCHASE     2415   \n",
       "442454                        e  GENERAL PURCHASE    177.5   \n",
       "442455                        e  GENERAL PURCHASE    32457   \n",
       "442456                        e  GENERAL PURCHASE  4714.07   \n",
       "\n",
       "                           Vendor Transaction Date     Posted Date  \\\n",
       "442452        TOTAL VALVE SYSTEMS   6/20/2014 0:00  6/23/2014 0:00   \n",
       "442453  PRYOR WASTE & RECYCLING L   6/20/2014 0:00  6/23/2014 0:00   \n",
       "442454  ACCURATE ENVIROMENTAL LAB   6/20/2014 0:00  6/23/2014 0:00   \n",
       "442455        RED BUD SERVICE INC   6/19/2014 0:00  6/23/2014 0:00   \n",
       "442456      WARRENCAT CREDIT DEPT   6/20/2014 0:00  6/23/2014 0:00   \n",
       "\n",
       "                          Merchant Category Code (MCC)  \n",
       "442452                 HARDWARE EQUIPMENT AND SUPPLIES  \n",
       "442453         UTILITIES - ELECTRIC,GAS,WATER,SANITARY  \n",
       "442454      BUSINESS SERVICES NOT ELSEWHERE CLASSIFIED  \n",
       "442455  PROFESSIONAL SERVICES NOT ELSEWHERE CLASSIFIED  \n",
       "442456       MISCELLANEOUS AND SPECIALTY RETAIL STORES  "
      ]
     },
     "execution_count": 3,
     "metadata": {},
     "output_type": "execute_result"
    }
   ],
   "source": [
    "sp.tail()"
   ]
  },
  {
   "cell_type": "markdown",
   "metadata": {},
   "source": [
    "## 1.2 Check Data"
   ]
  },
  {
   "cell_type": "markdown",
   "metadata": {},
   "source": [
    "* Note that there are enties in column \"Vendor\" containing number"
   ]
  },
  {
   "cell_type": "code",
   "execution_count": 4,
   "metadata": {},
   "outputs": [
    {
     "data": {
      "text/plain": [
       "0        \n",
       "1    OTEL\n",
       "2    9300\n",
       "3    0137\n",
       "4    RECT\n",
       "Name: Vendor, dtype: object"
      ]
     },
     "execution_count": 4,
     "metadata": {},
     "output_type": "execute_result"
    }
   ],
   "source": [
    "# check column \"Vendor\"\n",
    "vendor = 'SEARS.COM'\n",
    "def f(x):\n",
    "    if x[:len(vendor)+1] == vendor:\n",
    "        return x\n",
    "    else:\n",
    "        return x[len(vendor)+1 :]\n",
    "tmp = sp['Vendor'].apply(lambda x: f(x))\n",
    "tmp.head()"
   ]
  },
  {
   "cell_type": "markdown",
   "metadata": {},
   "source": [
    "* Aware of the \"mixed types\" warnings in the previous cell, and other commonly notable data type like datetime."
   ]
  },
  {
   "cell_type": "code",
   "execution_count": 5,
   "metadata": {},
   "outputs": [
    {
     "data": {
      "text/plain": [
       "Year-Month                       int64\n",
       "Agency Number                    int64\n",
       "Agency Name                     object\n",
       "Cardholder Last Name            object\n",
       "Cardholder First Initial        object\n",
       "Description                     object\n",
       "Amount                          object\n",
       "Vendor                          object\n",
       "Transaction Date                object\n",
       "Posted Date                     object\n",
       "Merchant Category Code (MCC)    object\n",
       "dtype: object"
      ]
     },
     "execution_count": 5,
     "metadata": {},
     "output_type": "execute_result"
    }
   ],
   "source": [
    "# check data types\n",
    "sp.dtypes"
   ]
  },
  {
   "cell_type": "markdown",
   "metadata": {},
   "source": [
    "* Note that data type in \"Year-Month\" is integer (should be datetime) and \"Amount\" is object/string (should be float). To be more precise, \"Agency Number\" should be object to establish better identity."
   ]
  },
  {
   "cell_type": "code",
   "execution_count": 6,
   "metadata": {},
   "outputs": [
    {
     "data": {
      "text/plain": [
       "(442457, 11)"
      ]
     },
     "execution_count": 6,
     "metadata": {},
     "output_type": "execute_result"
    }
   ],
   "source": [
    "# check total col & row number\n",
    "sp.shape"
   ]
  },
  {
   "cell_type": "code",
   "execution_count": 7,
   "metadata": {},
   "outputs": [
    {
     "data": {
      "text/html": [
       "<div>\n",
       "<style scoped>\n",
       "    .dataframe tbody tr th:only-of-type {\n",
       "        vertical-align: middle;\n",
       "    }\n",
       "\n",
       "    .dataframe tbody tr th {\n",
       "        vertical-align: top;\n",
       "    }\n",
       "\n",
       "    .dataframe thead th {\n",
       "        text-align: right;\n",
       "    }\n",
       "</style>\n",
       "<table border=\"1\" class=\"dataframe\">\n",
       "  <thead>\n",
       "    <tr style=\"text-align: right;\">\n",
       "      <th></th>\n",
       "      <th>Year-Month</th>\n",
       "      <th>Agency Number</th>\n",
       "      <th>Agency Name</th>\n",
       "      <th>Cardholder Last Name</th>\n",
       "      <th>Cardholder First Initial</th>\n",
       "      <th>Description</th>\n",
       "      <th>Amount</th>\n",
       "      <th>Vendor</th>\n",
       "      <th>Transaction Date</th>\n",
       "      <th>Posted Date</th>\n",
       "      <th>Merchant Category Code (MCC)</th>\n",
       "    </tr>\n",
       "  </thead>\n",
       "  <tbody>\n",
       "    <tr>\n",
       "      <th>count</th>\n",
       "      <td>442457.000000</td>\n",
       "      <td>442457.000000</td>\n",
       "      <td>442457</td>\n",
       "      <td>442457</td>\n",
       "      <td>442457</td>\n",
       "      <td>442457</td>\n",
       "      <td>442457.0</td>\n",
       "      <td>442457</td>\n",
       "      <td>442457</td>\n",
       "      <td>442457</td>\n",
       "      <td>442457</td>\n",
       "    </tr>\n",
       "    <tr>\n",
       "      <th>unique</th>\n",
       "      <td>NaN</td>\n",
       "      <td>NaN</td>\n",
       "      <td>124</td>\n",
       "      <td>3911</td>\n",
       "      <td>38</td>\n",
       "      <td>88734</td>\n",
       "      <td>112392.0</td>\n",
       "      <td>86727</td>\n",
       "      <td>392</td>\n",
       "      <td>258</td>\n",
       "      <td>435</td>\n",
       "    </tr>\n",
       "    <tr>\n",
       "      <th>top</th>\n",
       "      <td>NaN</td>\n",
       "      <td>NaN</td>\n",
       "      <td>OKLAHOMA STATE UNIVERSITY</td>\n",
       "      <td>JOURNEY HOUSE TRAVEL INC</td>\n",
       "      <td>J</td>\n",
       "      <td>GENERAL PURCHASE</td>\n",
       "      <td>20.0</td>\n",
       "      <td>STAPLES</td>\n",
       "      <td>9/11/2013 0:00</td>\n",
       "      <td>1/13/2014 0:00</td>\n",
       "      <td>STATIONERY, OFFICE SUPPLIES, PRINTING AND WRIT...</td>\n",
       "    </tr>\n",
       "    <tr>\n",
       "      <th>freq</th>\n",
       "      <td>NaN</td>\n",
       "      <td>NaN</td>\n",
       "      <td>115995</td>\n",
       "      <td>10137</td>\n",
       "      <td>55031</td>\n",
       "      <td>247186</td>\n",
       "      <td>11562.0</td>\n",
       "      <td>14842</td>\n",
       "      <td>2122</td>\n",
       "      <td>3256</td>\n",
       "      <td>24860</td>\n",
       "    </tr>\n",
       "    <tr>\n",
       "      <th>mean</th>\n",
       "      <td>201089.938457</td>\n",
       "      <td>42785.854897</td>\n",
       "      <td>NaN</td>\n",
       "      <td>NaN</td>\n",
       "      <td>NaN</td>\n",
       "      <td>NaN</td>\n",
       "      <td>NaN</td>\n",
       "      <td>NaN</td>\n",
       "      <td>NaN</td>\n",
       "      <td>NaN</td>\n",
       "      <td>NaN</td>\n",
       "    </tr>\n",
       "    <tr>\n",
       "      <th>std</th>\n",
       "      <td>7359.607965</td>\n",
       "      <td>33378.498815</td>\n",
       "      <td>NaN</td>\n",
       "      <td>NaN</td>\n",
       "      <td>NaN</td>\n",
       "      <td>NaN</td>\n",
       "      <td>NaN</td>\n",
       "      <td>NaN</td>\n",
       "      <td>NaN</td>\n",
       "      <td>NaN</td>\n",
       "      <td>NaN</td>\n",
       "    </tr>\n",
       "    <tr>\n",
       "      <th>min</th>\n",
       "      <td>-999.000000</td>\n",
       "      <td>1000.000000</td>\n",
       "      <td>NaN</td>\n",
       "      <td>NaN</td>\n",
       "      <td>NaN</td>\n",
       "      <td>NaN</td>\n",
       "      <td>NaN</td>\n",
       "      <td>NaN</td>\n",
       "      <td>NaN</td>\n",
       "      <td>NaN</td>\n",
       "      <td>NaN</td>\n",
       "    </tr>\n",
       "    <tr>\n",
       "      <th>25%</th>\n",
       "      <td>201309.000000</td>\n",
       "      <td>1000.000000</td>\n",
       "      <td>NaN</td>\n",
       "      <td>NaN</td>\n",
       "      <td>NaN</td>\n",
       "      <td>NaN</td>\n",
       "      <td>NaN</td>\n",
       "      <td>NaN</td>\n",
       "      <td>NaN</td>\n",
       "      <td>NaN</td>\n",
       "      <td>NaN</td>\n",
       "    </tr>\n",
       "    <tr>\n",
       "      <th>50%</th>\n",
       "      <td>201401.000000</td>\n",
       "      <td>47700.000000</td>\n",
       "      <td>NaN</td>\n",
       "      <td>NaN</td>\n",
       "      <td>NaN</td>\n",
       "      <td>NaN</td>\n",
       "      <td>NaN</td>\n",
       "      <td>NaN</td>\n",
       "      <td>NaN</td>\n",
       "      <td>NaN</td>\n",
       "      <td>NaN</td>\n",
       "    </tr>\n",
       "    <tr>\n",
       "      <th>75%</th>\n",
       "      <td>201404.000000</td>\n",
       "      <td>76000.000000</td>\n",
       "      <td>NaN</td>\n",
       "      <td>NaN</td>\n",
       "      <td>NaN</td>\n",
       "      <td>NaN</td>\n",
       "      <td>NaN</td>\n",
       "      <td>NaN</td>\n",
       "      <td>NaN</td>\n",
       "      <td>NaN</td>\n",
       "      <td>NaN</td>\n",
       "    </tr>\n",
       "    <tr>\n",
       "      <th>max</th>\n",
       "      <td>201900.000000</td>\n",
       "      <td>98000.000000</td>\n",
       "      <td>NaN</td>\n",
       "      <td>NaN</td>\n",
       "      <td>NaN</td>\n",
       "      <td>NaN</td>\n",
       "      <td>NaN</td>\n",
       "      <td>NaN</td>\n",
       "      <td>NaN</td>\n",
       "      <td>NaN</td>\n",
       "      <td>NaN</td>\n",
       "    </tr>\n",
       "  </tbody>\n",
       "</table>\n",
       "</div>"
      ],
      "text/plain": [
       "           Year-Month  Agency Number                Agency Name  \\\n",
       "count   442457.000000  442457.000000                     442457   \n",
       "unique            NaN            NaN                        124   \n",
       "top               NaN            NaN  OKLAHOMA STATE UNIVERSITY   \n",
       "freq              NaN            NaN                     115995   \n",
       "mean    201089.938457   42785.854897                        NaN   \n",
       "std       7359.607965   33378.498815                        NaN   \n",
       "min       -999.000000    1000.000000                        NaN   \n",
       "25%     201309.000000    1000.000000                        NaN   \n",
       "50%     201401.000000   47700.000000                        NaN   \n",
       "75%     201404.000000   76000.000000                        NaN   \n",
       "max     201900.000000   98000.000000                        NaN   \n",
       "\n",
       "            Cardholder Last Name Cardholder First Initial       Description  \\\n",
       "count                     442457                   442457            442457   \n",
       "unique                      3911                       38             88734   \n",
       "top     JOURNEY HOUSE TRAVEL INC                        J  GENERAL PURCHASE   \n",
       "freq                       10137                    55031            247186   \n",
       "mean                         NaN                      NaN               NaN   \n",
       "std                          NaN                      NaN               NaN   \n",
       "min                          NaN                      NaN               NaN   \n",
       "25%                          NaN                      NaN               NaN   \n",
       "50%                          NaN                      NaN               NaN   \n",
       "75%                          NaN                      NaN               NaN   \n",
       "max                          NaN                      NaN               NaN   \n",
       "\n",
       "          Amount   Vendor Transaction Date     Posted Date  \\\n",
       "count   442457.0   442457           442457          442457   \n",
       "unique  112392.0    86727              392             258   \n",
       "top         20.0  STAPLES   9/11/2013 0:00  1/13/2014 0:00   \n",
       "freq     11562.0    14842             2122            3256   \n",
       "mean         NaN      NaN              NaN             NaN   \n",
       "std          NaN      NaN              NaN             NaN   \n",
       "min          NaN      NaN              NaN             NaN   \n",
       "25%          NaN      NaN              NaN             NaN   \n",
       "50%          NaN      NaN              NaN             NaN   \n",
       "75%          NaN      NaN              NaN             NaN   \n",
       "max          NaN      NaN              NaN             NaN   \n",
       "\n",
       "                             Merchant Category Code (MCC)  \n",
       "count                                              442457  \n",
       "unique                                                435  \n",
       "top     STATIONERY, OFFICE SUPPLIES, PRINTING AND WRIT...  \n",
       "freq                                                24860  \n",
       "mean                                                  NaN  \n",
       "std                                                   NaN  \n",
       "min                                                   NaN  \n",
       "25%                                                   NaN  \n",
       "50%                                                   NaN  \n",
       "75%                                                   NaN  \n",
       "max                                                   NaN  "
      ]
     },
     "execution_count": 7,
     "metadata": {},
     "output_type": "execute_result"
    }
   ],
   "source": [
    "# check statistics\n",
    "sp.describe(include = 'all')"
   ]
  },
  {
   "cell_type": "code",
   "execution_count": 8,
   "metadata": {},
   "outputs": [
    {
     "name": "stdout",
     "output_type": "stream",
     "text": [
      "Number of unique Agency Number:  116\n"
     ]
    }
   ],
   "source": [
    "# further the unique number of \"Agency Number\"\n",
    "print(\"Number of unique Agency Number: \", len(sp['Agency Number'].unique()))"
   ]
  },
  {
   "cell_type": "markdown",
   "metadata": {},
   "source": [
    "* Note that the unique number of \"Agency Number\" cannot match with that of \"Agency Name\"."
   ]
  },
  {
   "cell_type": "code",
   "execution_count": 9,
   "metadata": {},
   "outputs": [
    {
     "name": "stdout",
     "output_type": "stream",
     "text": [
      "For each Number, there are more than one Names.\n"
     ]
    }
   ],
   "source": [
    "# check the 2 column containing Agency indentity\n",
    "flag= True\n",
    "for n in sp['Agency Number'].unique():\n",
    "    tmp = sp[['Agency Number', 'Agency Name']][sp['Agency Number'] == n]\n",
    "    if len(tmp['Agency Name'].unique()) > 1:\n",
    "        #print(\"\\nAgency Number: \" + str(n) + \" is representing multiple Agency Name as following: \")\n",
    "        #print(tmp['Agency Name'].unique())\n",
    "        flag = False\n",
    "if flag: print(\"For each Number, there's only one Name.\")\n",
    "else: print(\"For each Number, there are more than one Names.\")"
   ]
  },
  {
   "cell_type": "code",
   "execution_count": 10,
   "metadata": {},
   "outputs": [
    {
     "name": "stdout",
     "output_type": "stream",
     "text": [
      "For each Name, there's only one Number.\n"
     ]
    }
   ],
   "source": [
    "flag = True\n",
    "for n in sp['Agency Name'].unique():\n",
    "    tmp = sp[['Agency Number', 'Agency Name']][sp['Agency Name'] == n]\n",
    "    if len(tmp['Agency Number'].unique()) > 1:\n",
    "        print(\"\\nAgency Name: \" + str(n) + \" is representing multiple Agency Number as following: \")\n",
    "        print(tmp['Agency Number'].unique())\n",
    "        flag = False\n",
    "if flag: print(\"For each Name, there's only one Number.\")\n",
    "else: print(\"For each Name, there are more than one Numbers.\")"
   ]
  },
  {
   "cell_type": "markdown",
   "metadata": {},
   "source": [
    "* The mininum of the col \"Year-Month\" does not make sense.\n",
    "    * the column \"Year-Month\" might be missing and invalid, and we should find an alternative data to replace it"
   ]
  },
  {
   "cell_type": "code",
   "execution_count": 11,
   "metadata": {},
   "outputs": [
    {
     "data": {
      "text/html": [
       "<div>\n",
       "<style scoped>\n",
       "    .dataframe tbody tr th:only-of-type {\n",
       "        vertical-align: middle;\n",
       "    }\n",
       "\n",
       "    .dataframe tbody tr th {\n",
       "        vertical-align: top;\n",
       "    }\n",
       "\n",
       "    .dataframe thead th {\n",
       "        text-align: right;\n",
       "    }\n",
       "</style>\n",
       "<table border=\"1\" class=\"dataframe\">\n",
       "  <thead>\n",
       "    <tr style=\"text-align: right;\">\n",
       "      <th></th>\n",
       "      <th>Year-Month</th>\n",
       "      <th>Transaction Date</th>\n",
       "      <th>Posted Date</th>\n",
       "    </tr>\n",
       "  </thead>\n",
       "  <tbody>\n",
       "    <tr>\n",
       "      <th>318990</th>\n",
       "      <td>201307</td>\n",
       "      <td>6/30/2013 0:00</td>\n",
       "      <td>7/5/2013 0:00</td>\n",
       "    </tr>\n",
       "    <tr>\n",
       "      <th>324682</th>\n",
       "      <td>201307</td>\n",
       "      <td>5/23/2013 0:00</td>\n",
       "      <td>7/9/2013 0:00</td>\n",
       "    </tr>\n",
       "    <tr>\n",
       "      <th>326933</th>\n",
       "      <td>201307</td>\n",
       "      <td>7/17/2013 0:00</td>\n",
       "      <td>7/29/2013 0:00</td>\n",
       "    </tr>\n",
       "    <tr>\n",
       "      <th>328963</th>\n",
       "      <td>201307</td>\n",
       "      <td>7/17/2013 0:00</td>\n",
       "      <td>7/29/2013 0:00</td>\n",
       "    </tr>\n",
       "    <tr>\n",
       "      <th>405321</th>\n",
       "      <td>201307</td>\n",
       "      <td>5/22/2013 0:00</td>\n",
       "      <td>7/9/2013 0:00</td>\n",
       "    </tr>\n",
       "    <tr>\n",
       "      <th>409799</th>\n",
       "      <td>201307</td>\n",
       "      <td>7/9/2013 0:00</td>\n",
       "      <td>7/23/2013 0:00</td>\n",
       "    </tr>\n",
       "    <tr>\n",
       "      <th>439184</th>\n",
       "      <td>201307</td>\n",
       "      <td>7/8/2013 0:00</td>\n",
       "      <td>7/30/2013 0:00</td>\n",
       "    </tr>\n",
       "    <tr>\n",
       "      <th>439200</th>\n",
       "      <td>201307</td>\n",
       "      <td>5/27/2013 0:00</td>\n",
       "      <td>7/3/2013 0:00</td>\n",
       "    </tr>\n",
       "    <tr>\n",
       "      <th>439201</th>\n",
       "      <td>201307</td>\n",
       "      <td>5/27/2013 0:00</td>\n",
       "      <td>7/3/2013 0:00</td>\n",
       "    </tr>\n",
       "    <tr>\n",
       "      <th>439203</th>\n",
       "      <td>201307</td>\n",
       "      <td>5/27/2013 0:00</td>\n",
       "      <td>7/3/2013 0:00</td>\n",
       "    </tr>\n",
       "  </tbody>\n",
       "</table>\n",
       "</div>"
      ],
      "text/plain": [
       "        Year-Month Transaction Date     Posted Date\n",
       "318990      201307   6/30/2013 0:00   7/5/2013 0:00\n",
       "324682      201307   5/23/2013 0:00   7/9/2013 0:00\n",
       "326933      201307   7/17/2013 0:00  7/29/2013 0:00\n",
       "328963      201307   7/17/2013 0:00  7/29/2013 0:00\n",
       "405321      201307   5/22/2013 0:00   7/9/2013 0:00\n",
       "409799      201307    7/9/2013 0:00  7/23/2013 0:00\n",
       "439184      201307    7/8/2013 0:00  7/30/2013 0:00\n",
       "439200      201307   5/27/2013 0:00   7/3/2013 0:00\n",
       "439201      201307   5/27/2013 0:00   7/3/2013 0:00\n",
       "439203      201307   5/27/2013 0:00   7/3/2013 0:00"
      ]
     },
     "execution_count": 11,
     "metadata": {},
     "output_type": "execute_result"
    }
   ],
   "source": [
    "# check the 3 columns containing datetime\n",
    "sp[['Year-Month', 'Transaction Date', 'Posted Date']][sp['Year-Month'] == sp['Year-Month'][0]][-10:]"
   ]
  },
  {
   "cell_type": "markdown",
   "metadata": {},
   "source": [
    "* Note that the month of \"Year-Month\" is matched with that of \"Posted Date\". Thus below we check the validation of \"Posted Date\" to determine whether we can use \"Posted Date\" as the replacement of \"Year-Month\"."
   ]
  },
  {
   "cell_type": "code",
   "execution_count": 12,
   "metadata": {},
   "outputs": [
    {
     "name": "stdout",
     "output_type": "stream",
     "text": [
      "The min 'Posted Date' is 1/10/2014 0:00\n",
      "The max 'Posted Date' is 9/9/2013 0:00\n"
     ]
    }
   ],
   "source": [
    "print(\"The min 'Posted Date' is %s\" % sp['Posted Date'].min())\n",
    "print(\"The max 'Posted Date' is %s\" % sp['Posted Date'].max())"
   ]
  },
  {
   "cell_type": "markdown",
   "metadata": {},
   "source": [
    "* Combining the info from sp.describe, we can confirm that the date in the column \"Posted Date\" is valid."
   ]
  },
  {
   "cell_type": "markdown",
   "metadata": {},
   "source": [
    "## 1.3 Observation and Solution"
   ]
  },
  {
   "cell_type": "markdown",
   "metadata": {},
   "source": [
    "1. Column \"Vendor\"\n",
    "    * [obs] contains entries that represent one single vendor but having different suffix\n",
    "    * [sol] remove the suffix when we want to analyze desired vendor name\n",
    "\n",
    "2. Column \"Year-Month\"\n",
    "    * [obs] contains integer-type data and includes invalid minimum data -999\n",
    "    * [sol] remove this column and use column \"Posted Date\" as the replacement\n",
    "\n",
    "3. Column \"Amount\"\n",
    "    * [obs] contains string-type data, which may resulted from impropriate input or read\n",
    "    * [sol] convert into float\n",
    "\n",
    "4. Column \"Agency Number\"\n",
    "    * [obs] there exit numbers that represent multiple different Agency Name\n",
    "    * [sol] remove this column and use column \"Agency Name\" since each of it is unique"
   ]
  },
  {
   "cell_type": "markdown",
   "metadata": {},
   "source": [
    "## 1.4 Clean Process"
   ]
  },
  {
   "cell_type": "markdown",
   "metadata": {},
   "source": [
    "### 1.4.1 Remove \"Year-Month\" and \"Agency Number\""
   ]
  },
  {
   "cell_type": "code",
   "execution_count": 13,
   "metadata": {},
   "outputs": [
    {
     "data": {
      "text/html": [
       "<div>\n",
       "<style scoped>\n",
       "    .dataframe tbody tr th:only-of-type {\n",
       "        vertical-align: middle;\n",
       "    }\n",
       "\n",
       "    .dataframe tbody tr th {\n",
       "        vertical-align: top;\n",
       "    }\n",
       "\n",
       "    .dataframe thead th {\n",
       "        text-align: right;\n",
       "    }\n",
       "</style>\n",
       "<table border=\"1\" class=\"dataframe\">\n",
       "  <thead>\n",
       "    <tr style=\"text-align: right;\">\n",
       "      <th></th>\n",
       "      <th>Agency Name</th>\n",
       "      <th>Cardholder Last Name</th>\n",
       "      <th>Cardholder First Initial</th>\n",
       "      <th>Description</th>\n",
       "      <th>Amount</th>\n",
       "      <th>Vendor</th>\n",
       "      <th>Transaction Date</th>\n",
       "      <th>Posted Date</th>\n",
       "      <th>Merchant Category Code (MCC)</th>\n",
       "    </tr>\n",
       "  </thead>\n",
       "  <tbody>\n",
       "    <tr>\n",
       "      <th>0</th>\n",
       "      <td>OKLAHOMA STATE UNIVERSITY</td>\n",
       "      <td>Mason</td>\n",
       "      <td>C</td>\n",
       "      <td>GENERAL PURCHASE</td>\n",
       "      <td>890</td>\n",
       "      <td>NACAS</td>\n",
       "      <td>2013-07-30</td>\n",
       "      <td>2013-07-31</td>\n",
       "      <td>CHARITABLE AND SOCIAL SERVICE ORGANIZATIONS</td>\n",
       "    </tr>\n",
       "    <tr>\n",
       "      <th>1</th>\n",
       "      <td>OKLAHOMA STATE UNIVERSITY</td>\n",
       "      <td>Mason</td>\n",
       "      <td>C</td>\n",
       "      <td>ROOM CHARGES</td>\n",
       "      <td>368.96</td>\n",
       "      <td>SHERATON HOTEL</td>\n",
       "      <td>2013-07-30</td>\n",
       "      <td>2013-07-31</td>\n",
       "      <td>SHERATON</td>\n",
       "    </tr>\n",
       "    <tr>\n",
       "      <th>2</th>\n",
       "      <td>OKLAHOMA STATE UNIVERSITY</td>\n",
       "      <td>Massey</td>\n",
       "      <td>J</td>\n",
       "      <td>GENERAL PURCHASE</td>\n",
       "      <td>165.82</td>\n",
       "      <td>SEARS.COM 9300</td>\n",
       "      <td>2013-07-29</td>\n",
       "      <td>2013-07-31</td>\n",
       "      <td>DIRCT MARKETING/DIRCT MARKETERS--NOT ELSEWHERE...</td>\n",
       "    </tr>\n",
       "    <tr>\n",
       "      <th>3</th>\n",
       "      <td>OKLAHOMA STATE UNIVERSITY</td>\n",
       "      <td>Massey</td>\n",
       "      <td>T</td>\n",
       "      <td>GENERAL PURCHASE</td>\n",
       "      <td>96.39</td>\n",
       "      <td>WAL-MART #0137</td>\n",
       "      <td>2013-07-30</td>\n",
       "      <td>2013-07-31</td>\n",
       "      <td>GROCERY STORES,AND SUPERMARKETS</td>\n",
       "    </tr>\n",
       "    <tr>\n",
       "      <th>4</th>\n",
       "      <td>OKLAHOMA STATE UNIVERSITY</td>\n",
       "      <td>Mauro-Herrera</td>\n",
       "      <td>M</td>\n",
       "      <td>HAMMERMILL COPY PLUS COPY EA</td>\n",
       "      <td>125.96</td>\n",
       "      <td>STAPLES DIRECT</td>\n",
       "      <td>2013-07-30</td>\n",
       "      <td>2013-07-31</td>\n",
       "      <td>STATIONERY, OFFICE SUPPLIES, PRINTING AND WRIT...</td>\n",
       "    </tr>\n",
       "  </tbody>\n",
       "</table>\n",
       "</div>"
      ],
      "text/plain": [
       "                 Agency Name Cardholder Last Name Cardholder First Initial  \\\n",
       "0  OKLAHOMA STATE UNIVERSITY                Mason                        C   \n",
       "1  OKLAHOMA STATE UNIVERSITY                Mason                        C   \n",
       "2  OKLAHOMA STATE UNIVERSITY               Massey                        J   \n",
       "3  OKLAHOMA STATE UNIVERSITY               Massey                        T   \n",
       "4  OKLAHOMA STATE UNIVERSITY        Mauro-Herrera                        M   \n",
       "\n",
       "                    Description  Amount          Vendor Transaction Date  \\\n",
       "0              GENERAL PURCHASE     890           NACAS       2013-07-30   \n",
       "1                  ROOM CHARGES  368.96  SHERATON HOTEL       2013-07-30   \n",
       "2              GENERAL PURCHASE  165.82  SEARS.COM 9300       2013-07-29   \n",
       "3              GENERAL PURCHASE   96.39  WAL-MART #0137       2013-07-30   \n",
       "4  HAMMERMILL COPY PLUS COPY EA  125.96  STAPLES DIRECT       2013-07-30   \n",
       "\n",
       "  Posted Date                       Merchant Category Code (MCC)  \n",
       "0  2013-07-31        CHARITABLE AND SOCIAL SERVICE ORGANIZATIONS  \n",
       "1  2013-07-31                                           SHERATON  \n",
       "2  2013-07-31  DIRCT MARKETING/DIRCT MARKETERS--NOT ELSEWHERE...  \n",
       "3  2013-07-31                    GROCERY STORES,AND SUPERMARKETS  \n",
       "4  2013-07-31  STATIONERY, OFFICE SUPPLIES, PRINTING AND WRIT...  "
      ]
     },
     "execution_count": 13,
     "metadata": {},
     "output_type": "execute_result"
    }
   ],
   "source": [
    "# create new dataFrame called clean\n",
    "clean = sp.drop(['Year-Month', 'Agency Number'], axis = 1)\n",
    "clean.loc[:,'Posted Date'] = pd.to_datetime(clean.loc[:,'Posted Date'], format='%m/%d/%Y %H:%M')\n",
    "clean.loc[:,'Transaction Date'] = pd.to_datetime(clean.loc[:,'Transaction Date'], format='%m/%d/%Y %H:%M')\n",
    "clean.head()"
   ]
  },
  {
   "cell_type": "markdown",
   "metadata": {},
   "source": [
    "### 1.4.2 Transform Datatype in Column \"Amount\""
   ]
  },
  {
   "cell_type": "markdown",
   "metadata": {},
   "source": [
    "Extract float using regular expression '(\\d*\\.?\\d+)'"
   ]
  },
  {
   "cell_type": "code",
   "execution_count": 14,
   "metadata": {},
   "outputs": [
    {
     "data": {
      "text/plain": [
       "dtype('float64')"
      ]
     },
     "execution_count": 14,
     "metadata": {},
     "output_type": "execute_result"
    }
   ],
   "source": [
    "clean.loc[:,'Amount'] = clean.loc[:,'Amount'].astype(str).str.extract('(\\d*\\.?\\d+)', expand=False).astype(float)\n",
    "clean['Amount'].dtypes"
   ]
  },
  {
   "cell_type": "markdown",
   "metadata": {},
   "source": [
    "# 2. Answer Questions"
   ]
  },
  {
   "cell_type": "markdown",
   "metadata": {},
   "source": [
    "## Q1. What is the total amount of spending captured in this dataset? "
   ]
  },
  {
   "cell_type": "code",
   "execution_count": 15,
   "metadata": {},
   "outputs": [
    {
     "name": "stdout",
     "output_type": "stream",
     "text": [
      "The total amount of spending captured in this dataset is : $195165873.33\n"
     ]
    }
   ],
   "source": [
    "total_sp = clean['Amount'].sum()\n",
    "print(\"The total amount of spending captured in this dataset is : $%0.2f\" % total_sp)"
   ]
  },
  {
   "cell_type": "markdown",
   "metadata": {},
   "source": [
    "## Q2. How much was spent at WW GRAINGER? "
   ]
  },
  {
   "cell_type": "code",
   "execution_count": 16,
   "metadata": {},
   "outputs": [],
   "source": [
    "# convert all characters to uppercase first\n",
    "clean.loc[:,'Vendor'] = clean['Vendor'].str.upper()"
   ]
  },
  {
   "cell_type": "code",
   "execution_count": 17,
   "metadata": {},
   "outputs": [
    {
     "name": "stdout",
     "output_type": "stream",
     "text": [
      "The total amount of spending at WW GRAINGER is : $5360849.30\n"
     ]
    }
   ],
   "source": [
    "tmp = clean['Vendor'].str.contains('WW GRAINGER')\n",
    "sp_WW_GRAINGER = clean.loc[tmp]['Amount'].sum()\n",
    "print(\"The total amount of spending at WW GRAINGER is : $%0.2f\" % sp_WW_GRAINGER)"
   ]
  },
  {
   "cell_type": "markdown",
   "metadata": {},
   "source": [
    "## Q3. How much was spent at WM SUPERCENTER? "
   ]
  },
  {
   "cell_type": "code",
   "execution_count": 18,
   "metadata": {},
   "outputs": [
    {
     "name": "stdout",
     "output_type": "stream",
     "text": [
      "The total amount of spending at WM SUPERCENTER is : $157457.46\n"
     ]
    }
   ],
   "source": [
    "tmp = clean['Vendor'].str.contains('WM SUPERCENTER')\n",
    "sp_WM_SUPERCENTER = clean.loc[tmp]['Amount'].sum()\n",
    "print(\"The total amount of spending at WM SUPERCENTER is : $%0.2f\" % sp_WM_SUPERCENTER)"
   ]
  },
  {
   "cell_type": "markdown",
   "metadata": {},
   "source": [
    "## Q3. What is the standard deviation of the total monthly spending in the dataset? "
   ]
  },
  {
   "cell_type": "code",
   "execution_count": 19,
   "metadata": {},
   "outputs": [],
   "source": [
    "# further drop unnecessary columns\n",
    "date_idx = clean.drop(['Agency Name', 'Cardholder Last Name', 'Cardholder First Initial', \n",
    "                       'Description' , 'Vendor', 'Posted Date', 'Merchant Category Code (MCC)'], axis = 1)"
   ]
  },
  {
   "cell_type": "code",
   "execution_count": 20,
   "metadata": {},
   "outputs": [],
   "source": [
    "# set \"Transaction Date\" as new index\n",
    "date_idx.set_index('Transaction Date', inplace=True)"
   ]
  },
  {
   "cell_type": "code",
   "execution_count": 21,
   "metadata": {},
   "outputs": [
    {
     "data": {
      "text/html": [
       "<div>\n",
       "<style scoped>\n",
       "    .dataframe tbody tr th:only-of-type {\n",
       "        vertical-align: middle;\n",
       "    }\n",
       "\n",
       "    .dataframe tbody tr th {\n",
       "        vertical-align: top;\n",
       "    }\n",
       "\n",
       "    .dataframe thead th {\n",
       "        text-align: right;\n",
       "    }\n",
       "</style>\n",
       "<table border=\"1\" class=\"dataframe\">\n",
       "  <thead>\n",
       "    <tr style=\"text-align: right;\">\n",
       "      <th></th>\n",
       "      <th>Amount</th>\n",
       "    </tr>\n",
       "    <tr>\n",
       "      <th>Transaction Date</th>\n",
       "      <th></th>\n",
       "    </tr>\n",
       "  </thead>\n",
       "  <tbody>\n",
       "    <tr>\n",
       "      <th>2013-04-30</th>\n",
       "      <td>41.82</td>\n",
       "    </tr>\n",
       "    <tr>\n",
       "      <th>2013-05-31</th>\n",
       "      <td>24936.20</td>\n",
       "    </tr>\n",
       "    <tr>\n",
       "      <th>2013-06-30</th>\n",
       "      <td>1709727.13</td>\n",
       "    </tr>\n",
       "    <tr>\n",
       "      <th>2013-07-31</th>\n",
       "      <td>17287069.00</td>\n",
       "    </tr>\n",
       "    <tr>\n",
       "      <th>2013-08-31</th>\n",
       "      <td>18977628.79</td>\n",
       "    </tr>\n",
       "    <tr>\n",
       "      <th>2013-09-30</th>\n",
       "      <td>15663496.64</td>\n",
       "    </tr>\n",
       "    <tr>\n",
       "      <th>2013-10-31</th>\n",
       "      <td>18303060.12</td>\n",
       "    </tr>\n",
       "    <tr>\n",
       "      <th>2013-11-30</th>\n",
       "      <td>12879701.76</td>\n",
       "    </tr>\n",
       "    <tr>\n",
       "      <th>2013-12-31</th>\n",
       "      <td>12473203.02</td>\n",
       "    </tr>\n",
       "    <tr>\n",
       "      <th>2014-01-31</th>\n",
       "      <td>15880154.98</td>\n",
       "    </tr>\n",
       "    <tr>\n",
       "      <th>2014-02-28</th>\n",
       "      <td>15421584.96</td>\n",
       "    </tr>\n",
       "    <tr>\n",
       "      <th>2014-03-31</th>\n",
       "      <td>17366376.57</td>\n",
       "    </tr>\n",
       "    <tr>\n",
       "      <th>2014-04-30</th>\n",
       "      <td>17518722.86</td>\n",
       "    </tr>\n",
       "    <tr>\n",
       "      <th>2014-05-31</th>\n",
       "      <td>15459723.95</td>\n",
       "    </tr>\n",
       "    <tr>\n",
       "      <th>2014-06-30</th>\n",
       "      <td>16200445.53</td>\n",
       "    </tr>\n",
       "  </tbody>\n",
       "</table>\n",
       "</div>"
      ],
      "text/plain": [
       "                       Amount\n",
       "Transaction Date             \n",
       "2013-04-30              41.82\n",
       "2013-05-31           24936.20\n",
       "2013-06-30         1709727.13\n",
       "2013-07-31        17287069.00\n",
       "2013-08-31        18977628.79\n",
       "2013-09-30        15663496.64\n",
       "2013-10-31        18303060.12\n",
       "2013-11-30        12879701.76\n",
       "2013-12-31        12473203.02\n",
       "2014-01-31        15880154.98\n",
       "2014-02-28        15421584.96\n",
       "2014-03-31        17366376.57\n",
       "2014-04-30        17518722.86\n",
       "2014-05-31        15459723.95\n",
       "2014-06-30        16200445.53"
      ]
     },
     "execution_count": 21,
     "metadata": {},
     "output_type": "execute_result"
    }
   ],
   "source": [
    "# resample the dataset into monthly-base and sum up monthly spendings\n",
    "mth_idx = date_idx.resample('1M').sum()\n",
    "mth_idx"
   ]
  },
  {
   "cell_type": "markdown",
   "metadata": {},
   "source": [
    "Note that in Apr, May, and Jun of 2013, the monthly spendings are not in the same magnitude as the rest, in this case we may consider the three points as outliers and thus ignore them."
   ]
  },
  {
   "cell_type": "code",
   "execution_count": 24,
   "metadata": {},
   "outputs": [
    {
     "name": "stdout",
     "output_type": "stream",
     "text": [
      "The standard deviation of the total monthly spending in the dataset is : 1972504.61 with removal of outliers\n",
      "(6678193.91 with outliers.)\n"
     ]
    }
   ],
   "source": [
    "# sample standard deviation -- normalize by N-1\n",
    "print(\"The standard deviation of the total monthly spending in the dataset is : %0.2f\" % \n",
    "      mth_idx['Amount'][3:].std() + ' with removal of outliers')\n",
    "print(\"(%0.2f\" % mth_idx['Amount'].std() + ' with outliers.)')"
   ]
  },
  {
   "cell_type": "markdown",
   "metadata": {},
   "source": [
    "## Q5. Please describe the process you would follow to build a model on this dataset to make predictions about the stock market. Please note this is a hypothetical only - there is no need to build an actual model. "
   ]
  },
  {
   "cell_type": "markdown",
   "metadata": {},
   "source": [
    "### Q5.1 Logic Behind"
   ]
  },
  {
   "cell_type": "markdown",
   "metadata": {},
   "source": [
    "On the one hand, the stock market is a reflection of the economic conditions of an economy. If an economy is going through a recession, then the output will be decreasing, and most firms should be experiencing decreased profitability, which will result in decreasing in corresponding stock prices.\n",
    "\n",
    "On the other hand, the credit card transactions records can also indicate the status of an economy. In countries or areas like US where the penetration rate of credit card is high and personal consumer spendings account for a large part of the GDP, the credit card transaction data is a good indicator for the health status of the economy.\n",
    "\n",
    "Therefore, by analyzing the trendings of credit card transactions, we can have an evidential forecast about the movements of the economy and thus estimate the stock market accordingly. In other words, there is a positive correlation between the quantity of credit card transactions and stock market movement. "
   ]
  },
  {
   "cell_type": "markdown",
   "metadata": {},
   "source": [
    "### Q5.2 Dataset"
   ]
  },
  {
   "cell_type": "markdown",
   "metadata": {},
   "source": [
    "Except for the data under consideration, we will introduce historical weekly dummy data of S&P500 index -- 1 if the weekly return is positive, 0 otherwise."
   ]
  },
  {
   "cell_type": "markdown",
   "metadata": {},
   "source": [
    "### Q5.3 Assumptions and Model"
   ]
  },
  {
   "cell_type": "markdown",
   "metadata": {},
   "source": [
    "The total period of this transaction data is about 1 year, which will be our lookback period. As for the holding period/prediction period, it will be one week. \n",
    "\n",
    "The transaction data gives us a general idea about how the market movement is (up or down), but it hardly tells us the exact price of one stock/index since there is no causality between them in principle. So we will only predict whether the holding period return is positive or not.\n",
    "\n",
    "Markov Process model is prevalently used to predict the stock price. Further, here we consider the Hidden Markov Model (HMM), which mimic the reality better by assuming that There are underlying ‘hidden’ states which drive the stock prices and the transition probabilities are unknown.\n",
    "\n",
    "Since we 'normalize' the weekly return of S&P 500 to 0 or 1, the emission probability will equal to the possibility of positive weekly return for the holding period."
   ]
  },
  {
   "cell_type": "markdown",
   "metadata": {},
   "source": [
    "### Q5.4 Process"
   ]
  },
  {
   "cell_type": "markdown",
   "metadata": {},
   "source": [
    "#### Q5.4.1 Clean Data\n",
    "\n",
    "1. drop irrelevant data\n",
    "\n",
    "Based on the pd.dataFrame `clean`, which have been partially cleaned above, we further drop `'Posted Date'` and `'Merchant Category Code (MCC)'` columns since they are irrelevant to our concerns (no causalities).\n",
    "    \n",
    "2. create feature\n",
    "\n",
    "Note that `'Cardholder Last Name'` plus\t`'Cardholder First Initial'` will uniquely represent a cardholder and it is a causal factor, we will create a new column named `'Cardholder'` based on the concatenated string of these two columns, and drop these two columns.\n",
    "\n",
    "3. create dummies\n",
    "\n",
    "After the above two processes, we get a newly cleaned pd.dataFrame containing `'Agency Name'`, `'Cardholder'`, `'Description'`, `'Amount'`, `'Vendor'`, `'Transaction Date'`. Except for `'Amount'`, and `'Transaction Date'`, we will convert the rest into dummy variables. These dummy variables, together with `'Amount'`, will be features in our model.\n",
    "\n",
    "4. resample to the weekly transaction\n",
    "\n",
    "First reindex based on the `'Transaction Date'`, then use `dataFrame.resample('B').sum()` to transform into business daily data.\n",
    "\n",
    "5. split the dataset\n",
    "\n",
    "We split the dataset obtained from step 4 into 7:3, where 70% is `training_data` while 30% is the `test_data`."
   ]
  },
  {
   "cell_type": "markdown",
   "metadata": {},
   "source": [
    "#### Q5.4.2 Training and Testing\n",
    "\n",
    "**Training**(here we will train s = 2,3,4,5, separately)\n",
    "\n",
    "1. Set randomly the number of states to s;\n",
    "2. Randomly set the initial state probability 𝑃0 and transition probability 𝐴;\n",
    "3. Run the Baum-Welch algorithm using these initial condition to calculate suboptimal parameters 𝜆.\n",
    "\n",
    "**Testing**\n",
    "    \n",
    "1. Select a window size `w`;\n",
    "2. Calculate the 𝑃(O/𝜆) or –log(𝑃(O/𝜆)) for all the sub-sequences, where O stands for our features mentioned above in the period of `w`;\n",
    "3. Identify the sub-sequence whose log-likelihood of its `w` previous observations is the closest to the sub-sequence whose next day’s price is to be predicted;\n",
    "4. Use the differential change.\n"
   ]
  },
  {
   "cell_type": "markdown",
   "metadata": {},
   "source": [
    "#### Q5.4.3 Model Selection\n",
    "\n",
    "##### I. Learning Model Order\n",
    "    \n",
    " **Bayesian Information Criterion**\n",
    "\n",
    "By using Bayesian Information Criterion, the complexity of the model can be penalized giving the optimal number of states for a stock:\n",
    "\n",
    "    𝐵𝐼𝐶=−2ln(𝐿)+𝑝×𝑙𝑛(𝑇)\n",
    "\n",
    "where 𝐿 is the likelihood function for the model, 𝑇 is the number of observation points and 𝑝 is the estimated parameters in the model:\n",
    "    \n",
    "    𝑝=𝑁^2+2𝑁−1\n",
    "\n",
    "The lower the BIC, the better the model. But our object is the predictive performance of the model, thus more attention will be given to the cross-validation as below and will not just stick to this singular criterion.\n",
    "    \n",
    "##### II. Assess Predictive Performance\n",
    "**apply k-fold cross validation** we use k = 10 here\n",
    "\n",
    "1. Divide test set into k random subsets;\n",
    "2. The test set is tested using the classifier trained on the remaining k-1;\n",
    "3. Do test on all of the other sets and average the percentages;\n",
    "4. Calculate the optimal hyperparameter values through grid search.\n"
   ]
  },
  {
   "cell_type": "markdown",
   "metadata": {},
   "source": [
    "#### Q5.4.4 Reflections and Prediction\n",
    "\n",
    "After getting the hyperparameter, we calculate the performance metrics by inserting test data into the trained model, which will show us the optimal model based on Receiver Operating Characteristic Area Under the Curve.\n",
    "\n",
    "If the accuracy rate is not high enough, after ranking models by cross-validation, we will double-rank using the BIC as model-selection criterion and thus find the second best from the initial ranking. Furthermore, we can generate more different models to the training process and do the selection again, in order to raise the test-data accuracy.\n",
    "\n",
    "Note the scale of the transaction data, we did not leave any data for validation purpose (known as validation data). This may cause our models to perform best on the test data but poorly on general data. This can be improved if we can access a larger scale of dataset.\n",
    "\n",
    "Finally, when new transaction data come out, we can forward them into the selected optimal model and make prediction -- likelihood of whether suffering weekly loss or gaining profits."
   ]
  },
  {
   "cell_type": "markdown",
   "metadata": {},
   "source": [
    "## Q6. What biases might this dataset have if you tried to use it to model equities? "
   ]
  },
  {
   "cell_type": "markdown",
   "metadata": {},
   "source": [
    "1. Delayed Effect:\n",
    "\n",
    "    - It takes some time for the main participants in the market to get full information about the status of economics and thus there is always some delayings of illustration in the stock market. Additionally, this kind of delaying is different for different causality under different market condition. There is a high possibility that the model we build only captured the average level of delaying, which will cause the prediction biased.\n",
    "\n",
    "\n",
    "2. Sampling Bias:\n",
    "\n",
    "    - The dataset only contains the transaction data of employees of one state in the US. Since different states may have different cultures and hence the shopping habits/patterns, using the state-level data to predict the whole country thus is biased. \n",
    "    - Also, S&P 500 includes companies whose main (revenue-generating) business may be not from the US even they are American companies. Using US transaction data to predict conditions in other countries is another bias caused by this inappropriate sample.\n",
    "    - As we mentioned in the logic section, the penetration rate of credit card is high and personal consumer spendings account for a large part of the GDP in the US. But if it is the case in other countries, especially developing countries where penetration rate of credit card is low and stake of personal consumer spendings is just a small part of GDP, our logic behind will be invalid.\n",
    "    \n",
    "    \n",
    "3. Validation Bias:\n",
    "\n",
    "    - As we mentioned in Q5.4.4, the model is biased to make the test data perform well, because of lacking validation data.\n",
    "    \n",
    "\n",
    "4. Survival Bias:\n",
    "\n",
    "    - Without more detailed data, we can not make sure there is no selection process. Chances are that selected employees are rich enough and the elasticity to the economic condition is low."
   ]
  },
  {
   "cell_type": "markdown",
   "metadata": {},
   "source": [
    "## Q7. (Optional) Do you have any other observations about this dataset? "
   ]
  },
  {
   "cell_type": "markdown",
   "metadata": {},
   "source": [
    "### 1. Customers"
   ]
  },
  {
   "cell_type": "code",
   "execution_count": 25,
   "metadata": {},
   "outputs": [
    {
     "name": "stdout",
     "output_type": "stream",
     "text": [
      "The number of unique Cardholder is 5213.\n"
     ]
    }
   ],
   "source": [
    "clean['Cardholder'] = clean['Cardholder Last Name'].str.cat(clean['Cardholder First Initial'],sep=' ')\n",
    "print(\"The number of unique Cardholder is %i.\" % len(clean['Cardholder'].unique()))"
   ]
  },
  {
   "cell_type": "code",
   "execution_count": 26,
   "metadata": {},
   "outputs": [
    {
     "data": {
      "text/plain": [
       "[Text(0,0.5,'Total Spendings'),\n",
       " Text(0.5,0,'Cardholder Name'),\n",
       " Text(0.5,1,'Total spendings by Cardholder')]"
      ]
     },
     "execution_count": 26,
     "metadata": {},
     "output_type": "execute_result"
    },
    {
     "data": {
      "image/png": "[encoded data removed]",
      "text/plain": [
       "<Figure size 432x288 with 1 Axes>"
      ]
     },
     "metadata": {},
     "output_type": "display_data"
    }
   ],
   "source": [
    "axis = clean.groupby(['Cardholder'])['Amount'].sum().sort_values(ascending=False)[:10].plot.bar()\n",
    "axis.set(xlabel=\"Cardholder Name\", ylabel=\"Total Spendings\", title = \"Total spendings by Cardholder\")"
   ]
  },
  {
   "cell_type": "markdown",
   "metadata": {},
   "source": [
    "It is likely that 'Cardholder e' is the largest company in Oklahoma State."
   ]
  },
  {
   "cell_type": "markdown",
   "metadata": {},
   "source": [
    "### 2. Agency"
   ]
  },
  {
   "cell_type": "code",
   "execution_count": 27,
   "metadata": {},
   "outputs": [
    {
     "name": "stdout",
     "output_type": "stream",
     "text": [
      "The number of unique Agency is 124.\n"
     ]
    }
   ],
   "source": [
    "print(\"The number of unique Agency is %i.\" % len(clean['Agency Name'].unique()))"
   ]
  },
  {
   "cell_type": "code",
   "execution_count": 28,
   "metadata": {},
   "outputs": [
    {
     "data": {
      "text/plain": [
       "[Text(0,0.5,'Total Spendings'),\n",
       " Text(0.5,0,'Agency Name'),\n",
       " Text(0.5,1,'Total Proxy Amount by Agency')]"
      ]
     },
     "execution_count": 28,
     "metadata": {},
     "output_type": "execute_result"
    },
    {
     "data": {
      "image/png": "[encoded data removed]",
      "text/plain": [
       "<Figure size 432x288 with 1 Axes>"
      ]
     },
     "metadata": {},
     "output_type": "display_data"
    }
   ],
   "source": [
    "axis = clean.groupby(['Agency Name'])['Amount'].sum().sort_values(ascending=False)[:10].plot.bar()\n",
    "axis.set(xlabel=\"Agency Name\", ylabel=\"Total Spendings\", title = \"Total Proxy Amount by Agency\")"
   ]
  },
  {
   "cell_type": "code",
   "execution_count": 29,
   "metadata": {},
   "outputs": [
    {
     "data": {
      "text/plain": [
       "[Text(0,0.5,'Total Numbers'),\n",
       " Text(0.5,0,'Agency Name'),\n",
       " Text(0.5,1,'Total numbers of tradings')]"
      ]
     },
     "execution_count": 29,
     "metadata": {},
     "output_type": "execute_result"
    },
    {
     "data": {
      "image/png": "[encoded data removed]",
      "text/plain": [
       "<Figure size 432x288 with 1 Axes>"
      ]
     },
     "metadata": {},
     "output_type": "display_data"
    }
   ],
   "source": [
    "axis = clean.groupby(['Agency Name'])['Amount'].count().sort_values(ascending=False)[:10].plot.bar()\n",
    "axis.set(xlabel=\"Agency Name\", ylabel=\"Total Numbers\", title = \"Total numbers of tradings\")"
   ]
  },
  {
   "cell_type": "markdown",
   "metadata": {},
   "source": [
    "Universities dominate the agent market."
   ]
  },
  {
   "cell_type": "code",
   "execution_count": null,
   "metadata": {},
   "outputs": [],
   "source": []
  }
 ],
 "metadata": {
  "kernelspec": {
   "display_name": "Python 3",
   "language": "python",
   "name": "python3"
  },
  "language_info": {
   "codemirror_mode": {
    "name": "ipython",
    "version": 3
   },
   "file_extension": ".py",
   "mimetype": "text/x-python",
   "name": "python",
   "nbconvert_exporter": "python",
   "pygments_lexer": "ipython3",
   "version": "3.7.3"
  }
 },
 "nbformat": 4,
 "nbformat_minor": 2
}
